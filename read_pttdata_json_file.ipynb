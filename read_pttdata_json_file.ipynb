{
  "nbformat": 4,
  "nbformat_minor": 0,
  "metadata": {
    "colab": {
      "name": "read_pttdata_json_file.ipynb",
      "provenance": [],
      "collapsed_sections": [],
      "include_colab_link": true
    },
    "kernelspec": {
      "name": "python3",
      "display_name": "Python 3"
    }
  },
  "cells": [
    {
      "cell_type": "markdown",
      "metadata": {
        "id": "view-in-github",
        "colab_type": "text"
      },
      "source": [
        "<a href=\"https://colab.research.google.com/github/williamshiaogit/DL-ML-AI-learning/blob/master/read_pttdata_json_file.ipynb\" target=\"_parent\"><img src=\"https://colab.research.google.com/assets/colab-badge.svg\" alt=\"Open In Colab\"/></a>"
      ]
    },
    {
      "cell_type": "code",
      "metadata": {
        "id": "nTsxTANi5NBx",
        "colab_type": "code",
        "colab": {}
      },
      "source": [
        "path = \"/content/drive/My Drive/109Tibame/專題-人型人臉裁切/py執行\"\n",
        "import os"
      ],
      "execution_count": null,
      "outputs": []
    },
    {
      "cell_type": "code",
      "metadata": {
        "id": "rYa_vm555dZH",
        "colab_type": "code",
        "colab": {}
      },
      "source": [
        "# 1. Upload data\n",
        "import json\n",
        "\n",
        "with open(path + '/data.json') as json_file:\n",
        "    jj = json.load(json_file)"
      ],
      "execution_count": null,
      "outputs": []
    },
    {
      "cell_type": "code",
      "metadata": {
        "id": "-Ox2blDwApQP",
        "colab_type": "code",
        "colab": {}
      },
      "source": [
        "jj"
      ],
      "execution_count": null,
      "outputs": []
    },
    {
      "cell_type": "code",
      "metadata": {
        "id": "9rdHhRCm8dW3",
        "colab_type": "code",
        "colab": {}
      },
      "source": [
        "# 這裡執行\n",
        "import urllib.request\n",
        "dir_path = \"/content/drive/My Drive/109Tibame/專題-人型人臉裁切/py執行/test01_reg_photos\"\n",
        "for p in jj:\n",
        "    print('Title: ' + p['title'])\n",
        "    print('Website: ' + p['url'])\n",
        "    print('From_slug: ' + p['slug'])\n",
        "    slug_change = p['slug'].replace(\".\", \"_\")\n",
        "    #這裡要寫if dir_path + \"/\" + slug_change在的話就不用建立了\n",
        "    try:\n",
        "        os.stat(dir_path + \"/\" + slug_change)\n",
        "    except:\n",
        "        os.mkdir(dir_path + \"/\" + slug_change)\n",
        "    for img in p['imgs']:\n",
        "        if img.split(\".\")[-1] == \"jpg\":\n",
        "            # img_change = img.replace(\".\", \"_\")\n",
        "             try:\n",
        "                urllib.request.urlretrieve(img, filename=dir_path + \"/\" + slug_change + \"/\" + img.split(\"/\")[-1])\n",
        "                print('img:' + img)\n",
        "             except:\n",
        "                pass\n",
        "        else:\n",
        "            continue\n",
        "        # urllib.request.urlretrieve(img, filename=dir_path + \"/\" + slug_change + \"/\" + img)\n"
      ],
      "execution_count": null,
      "outputs": []
    },
    {
      "cell_type": "code",
      "metadata": {
        "id": "EdYhI_tJHsrL",
        "colab_type": "code",
        "colab": {
          "base_uri": "https://localhost:8080/",
          "height": 54
        },
        "outputId": "a5e9a3df-ff00-4942-ca3c-7d7e7561df28"
      },
      "source": [
        "# # test\n",
        "# # this cell test download 1 img\n",
        "# # import urllib.request\n",
        "# # dir_path 目標資料夾\n",
        "# dir_path = \"/content/drive/My Drive/109Tibame/專題-人型人臉裁切/py執行/test01_reg_photos\"\n",
        "# slug_change = p['slug'].replace(\".\", \"_\")\n",
        "# os.mkdir(dir_path + \"/\" + slug_change)\n",
        "# urllib.request.urlretrieve('https://imgur.com/nnGgkou.jpg', filename=dir_path + \"/\" + slug_change + \"/\" + \"1.jpg\")"
      ],
      "execution_count": null,
      "outputs": [
        {
          "output_type": "execute_result",
          "data": {
            "text/plain": [
              "('/content/drive/My Drive/109Tibame/專題-人型人臉裁切/py執行/test01_reg_photos/M_1577896160_A_724/1.jpg',\n",
              " <http.client.HTTPMessage at 0x7f21bbcea278>)"
            ]
          },
          "metadata": {
            "tags": []
          },
          "execution_count": 28
        }
      ]
    },
    {
      "cell_type": "code",
      "metadata": {
        "id": "7uOzGPHnPs4F",
        "colab_type": "code",
        "colab": {}
      },
      "source": [
        "# # test\n",
        "# # if img == .jpg .png -> download\n",
        "# if img.split(\".\")[-1] == \"jpg\":\n",
        "#     urllib.request.urlretrieve(img, filename=dir_path + \"/\" + slug_change + \"/\" + img)\n",
        "# else:\n",
        "#     continue\n",
        "\n",
        "# # img.split(\".\")[-1]"
      ],
      "execution_count": null,
      "outputs": []
    }
  ]
}