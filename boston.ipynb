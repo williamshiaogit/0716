{
  "nbformat": 4,
  "nbformat_minor": 0,
  "metadata": {
    "colab": {
      "name": "boston.ipynb",
      "provenance": [],
      "collapsed_sections": [],
      "authorship_tag": "ABX9TyPLd7g3mAGBV3l6dSz5srIW",
      "include_colab_link": true
    },
    "kernelspec": {
      "name": "python3",
      "display_name": "Python 3"
    },
    "accelerator": "GPU"
  },
  "cells": [
    {
      "cell_type": "markdown",
      "metadata": {
        "id": "view-in-github",
        "colab_type": "text"
      },
      "source": [
        "<a href=\"https://colab.research.google.com/github/williamshiaogit/0716/blob/master/boston.ipynb\" target=\"_parent\"><img src=\"https://colab.research.google.com/assets/colab-badge.svg\" alt=\"Open In Colab\"/></a>"
      ]
    },
    {
      "cell_type": "code",
      "metadata": {
        "id": "pFRkVbE0O0hL",
        "colab_type": "code",
        "colab": {}
      },
      "source": [
        "!pip install scikit-learn"
      ],
      "execution_count": null,
      "outputs": []
    },
    {
      "cell_type": "code",
      "metadata": {
        "id": "cghsColZ2EeA",
        "colab_type": "code",
        "colab": {
          "base_uri": "https://localhost:8080/",
          "height": 402
        },
        "outputId": "75bba68d-3632-4f0a-c8e8-d88441433776"
      },
      "source": [
        "import pandas as pd\n",
        "from sklearn.datasets import load_boston\n",
        "boston = load_boston()\n",
        "df = pd.DataFrame(boston[\"data\"],columns=boston[\"feature_names\"])\n",
        "df[\"answer\"] = boston[\"target\"]\n",
        "df.to_csv(\"boston.csv\", encoding=\"utf8\", index=False)\n",
        "df"
      ],
      "execution_count": 1,
      "outputs": [
        {
          "output_type": "execute_result",
          "data": {
            "text/html": [
              "<div>\n",
              "<style scoped>\n",
              "    .dataframe tbody tr th:only-of-type {\n",
              "        vertical-align: middle;\n",
              "    }\n",
              "\n",
              "    .dataframe tbody tr th {\n",
              "        vertical-align: top;\n",
              "    }\n",
              "\n",
              "    .dataframe thead th {\n",
              "        text-align: right;\n",
              "    }\n",
              "</style>\n",
              "<table border=\"1\" class=\"dataframe\">\n",
              "  <thead>\n",
              "    <tr style=\"text-align: right;\">\n",
              "      <th></th>\n",
              "      <th>CRIM</th>\n",
              "      <th>ZN</th>\n",
              "      <th>INDUS</th>\n",
              "      <th>CHAS</th>\n",
              "      <th>NOX</th>\n",
              "      <th>RM</th>\n",
              "      <th>AGE</th>\n",
              "      <th>DIS</th>\n",
              "      <th>RAD</th>\n",
              "      <th>TAX</th>\n",
              "      <th>PTRATIO</th>\n",
              "      <th>B</th>\n",
              "      <th>LSTAT</th>\n",
              "      <th>answer</th>\n",
              "    </tr>\n",
              "  </thead>\n",
              "  <tbody>\n",
              "    <tr>\n",
              "      <th>0</th>\n",
              "      <td>0.00632</td>\n",
              "      <td>18.0</td>\n",
              "      <td>2.31</td>\n",
              "      <td>0.0</td>\n",
              "      <td>0.538</td>\n",
              "      <td>6.575</td>\n",
              "      <td>65.2</td>\n",
              "      <td>4.0900</td>\n",
              "      <td>1.0</td>\n",
              "      <td>296.0</td>\n",
              "      <td>15.3</td>\n",
              "      <td>396.90</td>\n",
              "      <td>4.98</td>\n",
              "      <td>24.0</td>\n",
              "    </tr>\n",
              "    <tr>\n",
              "      <th>1</th>\n",
              "      <td>0.02731</td>\n",
              "      <td>0.0</td>\n",
              "      <td>7.07</td>\n",
              "      <td>0.0</td>\n",
              "      <td>0.469</td>\n",
              "      <td>6.421</td>\n",
              "      <td>78.9</td>\n",
              "      <td>4.9671</td>\n",
              "      <td>2.0</td>\n",
              "      <td>242.0</td>\n",
              "      <td>17.8</td>\n",
              "      <td>396.90</td>\n",
              "      <td>9.14</td>\n",
              "      <td>21.6</td>\n",
              "    </tr>\n",
              "    <tr>\n",
              "      <th>2</th>\n",
              "      <td>0.02729</td>\n",
              "      <td>0.0</td>\n",
              "      <td>7.07</td>\n",
              "      <td>0.0</td>\n",
              "      <td>0.469</td>\n",
              "      <td>7.185</td>\n",
              "      <td>61.1</td>\n",
              "      <td>4.9671</td>\n",
              "      <td>2.0</td>\n",
              "      <td>242.0</td>\n",
              "      <td>17.8</td>\n",
              "      <td>392.83</td>\n",
              "      <td>4.03</td>\n",
              "      <td>34.7</td>\n",
              "    </tr>\n",
              "    <tr>\n",
              "      <th>3</th>\n",
              "      <td>0.03237</td>\n",
              "      <td>0.0</td>\n",
              "      <td>2.18</td>\n",
              "      <td>0.0</td>\n",
              "      <td>0.458</td>\n",
              "      <td>6.998</td>\n",
              "      <td>45.8</td>\n",
              "      <td>6.0622</td>\n",
              "      <td>3.0</td>\n",
              "      <td>222.0</td>\n",
              "      <td>18.7</td>\n",
              "      <td>394.63</td>\n",
              "      <td>2.94</td>\n",
              "      <td>33.4</td>\n",
              "    </tr>\n",
              "    <tr>\n",
              "      <th>4</th>\n",
              "      <td>0.06905</td>\n",
              "      <td>0.0</td>\n",
              "      <td>2.18</td>\n",
              "      <td>0.0</td>\n",
              "      <td>0.458</td>\n",
              "      <td>7.147</td>\n",
              "      <td>54.2</td>\n",
              "      <td>6.0622</td>\n",
              "      <td>3.0</td>\n",
              "      <td>222.0</td>\n",
              "      <td>18.7</td>\n",
              "      <td>396.90</td>\n",
              "      <td>5.33</td>\n",
              "      <td>36.2</td>\n",
              "    </tr>\n",
              "    <tr>\n",
              "      <th>...</th>\n",
              "      <td>...</td>\n",
              "      <td>...</td>\n",
              "      <td>...</td>\n",
              "      <td>...</td>\n",
              "      <td>...</td>\n",
              "      <td>...</td>\n",
              "      <td>...</td>\n",
              "      <td>...</td>\n",
              "      <td>...</td>\n",
              "      <td>...</td>\n",
              "      <td>...</td>\n",
              "      <td>...</td>\n",
              "      <td>...</td>\n",
              "      <td>...</td>\n",
              "    </tr>\n",
              "    <tr>\n",
              "      <th>501</th>\n",
              "      <td>0.06263</td>\n",
              "      <td>0.0</td>\n",
              "      <td>11.93</td>\n",
              "      <td>0.0</td>\n",
              "      <td>0.573</td>\n",
              "      <td>6.593</td>\n",
              "      <td>69.1</td>\n",
              "      <td>2.4786</td>\n",
              "      <td>1.0</td>\n",
              "      <td>273.0</td>\n",
              "      <td>21.0</td>\n",
              "      <td>391.99</td>\n",
              "      <td>9.67</td>\n",
              "      <td>22.4</td>\n",
              "    </tr>\n",
              "    <tr>\n",
              "      <th>502</th>\n",
              "      <td>0.04527</td>\n",
              "      <td>0.0</td>\n",
              "      <td>11.93</td>\n",
              "      <td>0.0</td>\n",
              "      <td>0.573</td>\n",
              "      <td>6.120</td>\n",
              "      <td>76.7</td>\n",
              "      <td>2.2875</td>\n",
              "      <td>1.0</td>\n",
              "      <td>273.0</td>\n",
              "      <td>21.0</td>\n",
              "      <td>396.90</td>\n",
              "      <td>9.08</td>\n",
              "      <td>20.6</td>\n",
              "    </tr>\n",
              "    <tr>\n",
              "      <th>503</th>\n",
              "      <td>0.06076</td>\n",
              "      <td>0.0</td>\n",
              "      <td>11.93</td>\n",
              "      <td>0.0</td>\n",
              "      <td>0.573</td>\n",
              "      <td>6.976</td>\n",
              "      <td>91.0</td>\n",
              "      <td>2.1675</td>\n",
              "      <td>1.0</td>\n",
              "      <td>273.0</td>\n",
              "      <td>21.0</td>\n",
              "      <td>396.90</td>\n",
              "      <td>5.64</td>\n",
              "      <td>23.9</td>\n",
              "    </tr>\n",
              "    <tr>\n",
              "      <th>504</th>\n",
              "      <td>0.10959</td>\n",
              "      <td>0.0</td>\n",
              "      <td>11.93</td>\n",
              "      <td>0.0</td>\n",
              "      <td>0.573</td>\n",
              "      <td>6.794</td>\n",
              "      <td>89.3</td>\n",
              "      <td>2.3889</td>\n",
              "      <td>1.0</td>\n",
              "      <td>273.0</td>\n",
              "      <td>21.0</td>\n",
              "      <td>393.45</td>\n",
              "      <td>6.48</td>\n",
              "      <td>22.0</td>\n",
              "    </tr>\n",
              "    <tr>\n",
              "      <th>505</th>\n",
              "      <td>0.04741</td>\n",
              "      <td>0.0</td>\n",
              "      <td>11.93</td>\n",
              "      <td>0.0</td>\n",
              "      <td>0.573</td>\n",
              "      <td>6.030</td>\n",
              "      <td>80.8</td>\n",
              "      <td>2.5050</td>\n",
              "      <td>1.0</td>\n",
              "      <td>273.0</td>\n",
              "      <td>21.0</td>\n",
              "      <td>396.90</td>\n",
              "      <td>7.88</td>\n",
              "      <td>11.9</td>\n",
              "    </tr>\n",
              "  </tbody>\n",
              "</table>\n",
              "<p>506 rows × 14 columns</p>\n",
              "</div>"
            ],
            "text/plain": [
              "        CRIM    ZN  INDUS  CHAS    NOX  ...    TAX  PTRATIO       B  LSTAT  answer\n",
              "0    0.00632  18.0   2.31   0.0  0.538  ...  296.0     15.3  396.90   4.98    24.0\n",
              "1    0.02731   0.0   7.07   0.0  0.469  ...  242.0     17.8  396.90   9.14    21.6\n",
              "2    0.02729   0.0   7.07   0.0  0.469  ...  242.0     17.8  392.83   4.03    34.7\n",
              "3    0.03237   0.0   2.18   0.0  0.458  ...  222.0     18.7  394.63   2.94    33.4\n",
              "4    0.06905   0.0   2.18   0.0  0.458  ...  222.0     18.7  396.90   5.33    36.2\n",
              "..       ...   ...    ...   ...    ...  ...    ...      ...     ...    ...     ...\n",
              "501  0.06263   0.0  11.93   0.0  0.573  ...  273.0     21.0  391.99   9.67    22.4\n",
              "502  0.04527   0.0  11.93   0.0  0.573  ...  273.0     21.0  396.90   9.08    20.6\n",
              "503  0.06076   0.0  11.93   0.0  0.573  ...  273.0     21.0  396.90   5.64    23.9\n",
              "504  0.10959   0.0  11.93   0.0  0.573  ...  273.0     21.0  393.45   6.48    22.0\n",
              "505  0.04741   0.0  11.93   0.0  0.573  ...  273.0     21.0  396.90   7.88    11.9\n",
              "\n",
              "[506 rows x 14 columns]"
            ]
          },
          "metadata": {
            "tags": []
          },
          "execution_count": 1
        }
      ]
    },
    {
      "cell_type": "code",
      "metadata": {
        "id": "v8qRtJ0nOn-G",
        "colab_type": "code",
        "colab": {}
      },
      "source": [
        "from sklearn.model_selection import train_test_split\n",
        "# [90%data, 10%data,90%target,10%target]\n",
        "x_train, x_test, y_train, y_test = train_test_split(boston[\"data\"],\n",
        "                                                                          boston[\"target\"],\n",
        "                                                                          test_size=0.1)"
      ],
      "execution_count": 2,
      "outputs": []
    },
    {
      "cell_type": "code",
      "metadata": {
        "id": "kpZUG2VlSkNr",
        "colab_type": "code",
        "colab": {
          "base_uri": "https://localhost:8080/",
          "height": 127
        },
        "outputId": "a51a99ea-bdd9-4769-92a8-dfdd59cce6f9"
      },
      "source": [
        "from sklearn.tree import  DecisionTreeRegressor\n",
        "#fit ->學資料\n",
        "reg = DecisionTreeRegressor(max_depth=5, random_state=0)\n",
        "reg.fit(x_train, y_train)"
      ],
      "execution_count": 17,
      "outputs": [
        {
          "output_type": "execute_result",
          "data": {
            "text/plain": [
              "DecisionTreeRegressor(ccp_alpha=0.0, criterion='mse', max_depth=5,\n",
              "                      max_features=None, max_leaf_nodes=None,\n",
              "                      min_impurity_decrease=0.0, min_impurity_split=None,\n",
              "                      min_samples_leaf=1, min_samples_split=2,\n",
              "                      min_weight_fraction_leaf=0.0, presort='deprecated',\n",
              "                      random_state=0, splitter='best')"
            ]
          },
          "metadata": {
            "tags": []
          },
          "execution_count": 17
        }
      ]
    },
    {
      "cell_type": "code",
      "metadata": {
        "id": "x2rPR07KT0QK",
        "colab_type": "code",
        "colab": {
          "base_uri": "https://localhost:8080/",
          "height": 653
        },
        "outputId": "d3a41336-77c0-4f52-92e2-2aeead8f86de"
      },
      "source": [
        "import graphviz\n",
        "from sklearn.tree import export_graphviz\n",
        "g = export_graphviz(reg,\n",
        "                    feature_names=boston[\"feature_names\"],\n",
        "                    filled=True,\n",
        "                    max_depth=3)\n",
        "graphviz.Source(g)"
      ],
      "execution_count": 20,
      "outputs": [
        {
          "output_type": "execute_result",
          "data": {
            "text/plain": [
              "<graphviz.files.Source at 0x7fe138e9ee80>"
            ],
            "image/svg+xml": "<?xml version=\"1.0\" encoding=\"UTF-8\" standalone=\"no\"?>\n<!DOCTYPE svg PUBLIC \"-//W3C//DTD SVG 1.1//EN\"\n \"http://www.w3.org/Graphics/SVG/1.1/DTD/svg11.dtd\">\n<!-- Generated by graphviz version 2.40.1 (20161225.0304)\n -->\n<!-- Title: Tree Pages: 1 -->\n<svg width=\"1061pt\" height=\"460pt\"\n viewBox=\"0.00 0.00 1060.50 460.00\" xmlns=\"http://www.w3.org/2000/svg\" xmlns:xlink=\"http://www.w3.org/1999/xlink\">\n<g id=\"graph0\" class=\"graph\" transform=\"scale(1 1) rotate(0) translate(4 456)\">\n<title>Tree</title>\n<polygon fill=\"#ffffff\" stroke=\"transparent\" points=\"-4,4 -4,-456 1056.5,-456 1056.5,4 -4,4\"/>\n<!-- 0 -->\n<g id=\"node1\" class=\"node\">\n<title>0</title>\n<polygon fill=\"#f7d7c1\" stroke=\"#000000\" points=\"511.5,-452 393.5,-452 393.5,-384 511.5,-384 511.5,-452\"/>\n<text text-anchor=\"middle\" x=\"452.5\" y=\"-436.8\" font-family=\"Times,serif\" font-size=\"14.00\" fill=\"#000000\">LSTAT &lt;= 9.725</text>\n<text text-anchor=\"middle\" x=\"452.5\" y=\"-421.8\" font-family=\"Times,serif\" font-size=\"14.00\" fill=\"#000000\">mse = 84.56</text>\n<text text-anchor=\"middle\" x=\"452.5\" y=\"-406.8\" font-family=\"Times,serif\" font-size=\"14.00\" fill=\"#000000\">samples = 455</text>\n<text text-anchor=\"middle\" x=\"452.5\" y=\"-391.8\" font-family=\"Times,serif\" font-size=\"14.00\" fill=\"#000000\">value = 22.523</text>\n</g>\n<!-- 1 -->\n<g id=\"node2\" class=\"node\">\n<title>1</title>\n<polygon fill=\"#f2c09c\" stroke=\"#000000\" points=\"437.5,-348 333.5,-348 333.5,-280 437.5,-280 437.5,-348\"/>\n<text text-anchor=\"middle\" x=\"385.5\" y=\"-332.8\" font-family=\"Times,serif\" font-size=\"14.00\" fill=\"#000000\">RM &lt;= 7.437</text>\n<text text-anchor=\"middle\" x=\"385.5\" y=\"-317.8\" font-family=\"Times,serif\" font-size=\"14.00\" fill=\"#000000\">mse = 78.441</text>\n<text text-anchor=\"middle\" x=\"385.5\" y=\"-302.8\" font-family=\"Times,serif\" font-size=\"14.00\" fill=\"#000000\">samples = 188</text>\n<text text-anchor=\"middle\" x=\"385.5\" y=\"-287.8\" font-family=\"Times,serif\" font-size=\"14.00\" fill=\"#000000\">value = 29.853</text>\n</g>\n<!-- 0&#45;&gt;1 -->\n<g id=\"edge1\" class=\"edge\">\n<title>0&#45;&gt;1</title>\n<path fill=\"none\" stroke=\"#000000\" d=\"M430.5617,-383.9465C424.951,-375.2373 418.8471,-365.7626 412.9958,-356.6801\"/>\n<polygon fill=\"#000000\" stroke=\"#000000\" points=\"415.8457,-354.641 407.4876,-348.13 409.9611,-358.4321 415.8457,-354.641\"/>\n<text text-anchor=\"middle\" x=\"402.2006\" y=\"-368.8646\" font-family=\"Times,serif\" font-size=\"14.00\" fill=\"#000000\">True</text>\n</g>\n<!-- 26 -->\n<g id=\"node15\" class=\"node\">\n<title>26</title>\n<polygon fill=\"#fae7da\" stroke=\"#000000\" points=\"639,-348 514,-348 514,-280 639,-280 639,-348\"/>\n<text text-anchor=\"middle\" x=\"576.5\" y=\"-332.8\" font-family=\"Times,serif\" font-size=\"14.00\" fill=\"#000000\">LSTAT &lt;= 16.215</text>\n<text text-anchor=\"middle\" x=\"576.5\" y=\"-317.8\" font-family=\"Times,serif\" font-size=\"14.00\" fill=\"#000000\">mse = 24.397</text>\n<text text-anchor=\"middle\" x=\"576.5\" y=\"-302.8\" font-family=\"Times,serif\" font-size=\"14.00\" fill=\"#000000\">samples = 267</text>\n<text text-anchor=\"middle\" x=\"576.5\" y=\"-287.8\" font-family=\"Times,serif\" font-size=\"14.00\" fill=\"#000000\">value = 17.362</text>\n</g>\n<!-- 0&#45;&gt;26 -->\n<g id=\"edge14\" class=\"edge\">\n<title>0&#45;&gt;26</title>\n<path fill=\"none\" stroke=\"#000000\" d=\"M493.1022,-383.9465C504.2356,-374.6088 516.4183,-364.3911 527.9489,-354.7203\"/>\n<polygon fill=\"#000000\" stroke=\"#000000\" points=\"530.3938,-357.2378 535.8065,-348.13 525.8954,-351.8745 530.3938,-357.2378\"/>\n<text text-anchor=\"middle\" x=\"533.6219\" y=\"-369.3344\" font-family=\"Times,serif\" font-size=\"14.00\" fill=\"#000000\">False</text>\n</g>\n<!-- 2 -->\n<g id=\"node3\" class=\"node\">\n<title>2</title>\n<polygon fill=\"#f4c9a9\" stroke=\"#000000\" points=\"211.5,-244 107.5,-244 107.5,-176 211.5,-176 211.5,-244\"/>\n<text text-anchor=\"middle\" x=\"159.5\" y=\"-228.8\" font-family=\"Times,serif\" font-size=\"14.00\" fill=\"#000000\">DIS &lt;= 1.485</text>\n<text text-anchor=\"middle\" x=\"159.5\" y=\"-213.8\" font-family=\"Times,serif\" font-size=\"14.00\" fill=\"#000000\">mse = 39.074</text>\n<text text-anchor=\"middle\" x=\"159.5\" y=\"-198.8\" font-family=\"Times,serif\" font-size=\"14.00\" fill=\"#000000\">samples = 161</text>\n<text text-anchor=\"middle\" x=\"159.5\" y=\"-183.8\" font-family=\"Times,serif\" font-size=\"14.00\" fill=\"#000000\">value = 27.193</text>\n</g>\n<!-- 1&#45;&gt;2 -->\n<g id=\"edge2\" class=\"edge\">\n<title>1&#45;&gt;2</title>\n<path fill=\"none\" stroke=\"#000000\" d=\"M333.3673,-290.0097C299.8612,-274.591 256.1785,-254.4892 220.9808,-238.2921\"/>\n<polygon fill=\"#000000\" stroke=\"#000000\" points=\"222.3089,-235.0505 211.7615,-234.0495 219.3826,-241.4095 222.3089,-235.0505\"/>\n</g>\n<!-- 11 -->\n<g id=\"node8\" class=\"node\">\n<title>11</title>\n<polygon fill=\"#e88e4e\" stroke=\"#000000\" points=\"449,-244 322,-244 322,-176 449,-176 449,-244\"/>\n<text text-anchor=\"middle\" x=\"385.5\" y=\"-228.8\" font-family=\"Times,serif\" font-size=\"14.00\" fill=\"#000000\">PTRATIO &lt;= 15.4</text>\n<text text-anchor=\"middle\" x=\"385.5\" y=\"-213.8\" font-family=\"Times,serif\" font-size=\"14.00\" fill=\"#000000\">mse = 19.401</text>\n<text text-anchor=\"middle\" x=\"385.5\" y=\"-198.8\" font-family=\"Times,serif\" font-size=\"14.00\" fill=\"#000000\">samples = 27</text>\n<text text-anchor=\"middle\" x=\"385.5\" y=\"-183.8\" font-family=\"Times,serif\" font-size=\"14.00\" fill=\"#000000\">value = 45.715</text>\n</g>\n<!-- 1&#45;&gt;11 -->\n<g id=\"edge7\" class=\"edge\">\n<title>1&#45;&gt;11</title>\n<path fill=\"none\" stroke=\"#000000\" d=\"M385.5,-279.9465C385.5,-271.776 385.5,-262.9318 385.5,-254.3697\"/>\n<polygon fill=\"#000000\" stroke=\"#000000\" points=\"389.0001,-254.13 385.5,-244.13 382.0001,-254.13 389.0001,-254.13\"/>\n</g>\n<!-- 3 -->\n<g id=\"node4\" class=\"node\">\n<title>3</title>\n<polygon fill=\"#e58139\" stroke=\"#000000\" points=\"89,-132.5 0,-132.5 0,-79.5 89,-79.5 89,-132.5\"/>\n<text text-anchor=\"middle\" x=\"44.5\" y=\"-117.3\" font-family=\"Times,serif\" font-size=\"14.00\" fill=\"#000000\">mse = 0.0</text>\n<text text-anchor=\"middle\" x=\"44.5\" y=\"-102.3\" font-family=\"Times,serif\" font-size=\"14.00\" fill=\"#000000\">samples = 4</text>\n<text text-anchor=\"middle\" x=\"44.5\" y=\"-87.3\" font-family=\"Times,serif\" font-size=\"14.00\" fill=\"#000000\">value = 50.0</text>\n</g>\n<!-- 2&#45;&gt;3 -->\n<g id=\"edge3\" class=\"edge\">\n<title>2&#45;&gt;3</title>\n<path fill=\"none\" stroke=\"#000000\" d=\"M121.8447,-175.9465C108.8122,-164.1606 94.2294,-150.9726 81.2689,-139.2519\"/>\n<polygon fill=\"#000000\" stroke=\"#000000\" points=\"83.614,-136.6537 73.8495,-132.5422 78.9188,-141.8456 83.614,-136.6537\"/>\n</g>\n<!-- 4 -->\n<g id=\"node5\" class=\"node\">\n<title>4</title>\n<polygon fill=\"#f4caac\" stroke=\"#000000\" points=\"211.5,-140 107.5,-140 107.5,-72 211.5,-72 211.5,-140\"/>\n<text text-anchor=\"middle\" x=\"159.5\" y=\"-124.8\" font-family=\"Times,serif\" font-size=\"14.00\" fill=\"#000000\">RM &lt;= 6.797</text>\n<text text-anchor=\"middle\" x=\"159.5\" y=\"-109.8\" font-family=\"Times,serif\" font-size=\"14.00\" fill=\"#000000\">mse = 26.48</text>\n<text text-anchor=\"middle\" x=\"159.5\" y=\"-94.8\" font-family=\"Times,serif\" font-size=\"14.00\" fill=\"#000000\">samples = 157</text>\n<text text-anchor=\"middle\" x=\"159.5\" y=\"-79.8\" font-family=\"Times,serif\" font-size=\"14.00\" fill=\"#000000\">value = 26.612</text>\n</g>\n<!-- 2&#45;&gt;4 -->\n<g id=\"edge4\" class=\"edge\">\n<title>2&#45;&gt;4</title>\n<path fill=\"none\" stroke=\"#000000\" d=\"M159.5,-175.9465C159.5,-167.776 159.5,-158.9318 159.5,-150.3697\"/>\n<polygon fill=\"#000000\" stroke=\"#000000\" points=\"163.0001,-150.13 159.5,-140.13 156.0001,-150.13 163.0001,-150.13\"/>\n</g>\n<!-- 5 -->\n<g id=\"node6\" class=\"node\">\n<title>5</title>\n<polygon fill=\"#c0c0c0\" stroke=\"#000000\" points=\"114.5,-36 60.5,-36 60.5,0 114.5,0 114.5,-36\"/>\n<text text-anchor=\"middle\" x=\"87.5\" y=\"-14.3\" font-family=\"Times,serif\" font-size=\"14.00\" fill=\"#000000\">(...)</text>\n</g>\n<!-- 4&#45;&gt;5 -->\n<g id=\"edge5\" class=\"edge\">\n<title>4&#45;&gt;5</title>\n<path fill=\"none\" stroke=\"#000000\" d=\"M131.6629,-71.9769C124.1059,-62.7406 116.0424,-52.8851 108.9014,-44.1573\"/>\n<polygon fill=\"#000000\" stroke=\"#000000\" points=\"111.4256,-41.7152 102.3843,-36.192 106.0079,-46.1479 111.4256,-41.7152\"/>\n</g>\n<!-- 8 -->\n<g id=\"node7\" class=\"node\">\n<title>8</title>\n<polygon fill=\"#c0c0c0\" stroke=\"#000000\" points=\"186.5,-36 132.5,-36 132.5,0 186.5,0 186.5,-36\"/>\n<text text-anchor=\"middle\" x=\"159.5\" y=\"-14.3\" font-family=\"Times,serif\" font-size=\"14.00\" fill=\"#000000\">(...)</text>\n</g>\n<!-- 4&#45;&gt;8 -->\n<g id=\"edge6\" class=\"edge\">\n<title>4&#45;&gt;8</title>\n<path fill=\"none\" stroke=\"#000000\" d=\"M159.5,-71.9769C159.5,-63.5023 159.5,-54.5065 159.5,-46.3388\"/>\n<polygon fill=\"#000000\" stroke=\"#000000\" points=\"163.0001,-46.1919 159.5,-36.192 156.0001,-46.192 163.0001,-46.1919\"/>\n</g>\n<!-- 12 -->\n<g id=\"node9\" class=\"node\">\n<title>12</title>\n<polygon fill=\"#e68844\" stroke=\"#000000\" points=\"340,-140 243,-140 243,-72 340,-72 340,-140\"/>\n<text text-anchor=\"middle\" x=\"291.5\" y=\"-124.8\" font-family=\"Times,serif\" font-size=\"14.00\" fill=\"#000000\">RM &lt;= 7.724</text>\n<text text-anchor=\"middle\" x=\"291.5\" y=\"-109.8\" font-family=\"Times,serif\" font-size=\"14.00\" fill=\"#000000\">mse = 8.001</text>\n<text text-anchor=\"middle\" x=\"291.5\" y=\"-94.8\" font-family=\"Times,serif\" font-size=\"14.00\" fill=\"#000000\">samples = 15</text>\n<text text-anchor=\"middle\" x=\"291.5\" y=\"-79.8\" font-family=\"Times,serif\" font-size=\"14.00\" fill=\"#000000\">value = 47.84</text>\n</g>\n<!-- 11&#45;&gt;12 -->\n<g id=\"edge8\" class=\"edge\">\n<title>11&#45;&gt;12</title>\n<path fill=\"none\" stroke=\"#000000\" d=\"M354.7209,-175.9465C346.5245,-166.8782 337.578,-156.9799 329.0625,-147.5585\"/>\n<polygon fill=\"#000000\" stroke=\"#000000\" points=\"331.6503,-145.2019 322.3483,-140.13 326.4571,-149.8957 331.6503,-145.2019\"/>\n</g>\n<!-- 19 -->\n<g id=\"node12\" class=\"node\">\n<title>19</title>\n<polygon fill=\"#e9975b\" stroke=\"#000000\" points=\"462.5,-140 358.5,-140 358.5,-72 462.5,-72 462.5,-140\"/>\n<text text-anchor=\"middle\" x=\"410.5\" y=\"-124.8\" font-family=\"Times,serif\" font-size=\"14.00\" fill=\"#000000\">B &lt;= 383.525</text>\n<text text-anchor=\"middle\" x=\"410.5\" y=\"-109.8\" font-family=\"Times,serif\" font-size=\"14.00\" fill=\"#000000\">mse = 20.949</text>\n<text text-anchor=\"middle\" x=\"410.5\" y=\"-94.8\" font-family=\"Times,serif\" font-size=\"14.00\" fill=\"#000000\">samples = 12</text>\n<text text-anchor=\"middle\" x=\"410.5\" y=\"-79.8\" font-family=\"Times,serif\" font-size=\"14.00\" fill=\"#000000\">value = 43.058</text>\n</g>\n<!-- 11&#45;&gt;19 -->\n<g id=\"edge11\" class=\"edge\">\n<title>11&#45;&gt;19</title>\n<path fill=\"none\" stroke=\"#000000\" d=\"M393.6859,-175.9465C395.6716,-167.6863 397.8228,-158.7374 399.902,-150.0875\"/>\n<polygon fill=\"#000000\" stroke=\"#000000\" points=\"403.3614,-150.6711 402.2957,-140.13 396.5553,-149.035 403.3614,-150.6711\"/>\n</g>\n<!-- 13 -->\n<g id=\"node10\" class=\"node\">\n<title>13</title>\n<polygon fill=\"#c0c0c0\" stroke=\"#000000\" points=\"258.5,-36 204.5,-36 204.5,0 258.5,0 258.5,-36\"/>\n<text text-anchor=\"middle\" x=\"231.5\" y=\"-14.3\" font-family=\"Times,serif\" font-size=\"14.00\" fill=\"#000000\">(...)</text>\n</g>\n<!-- 12&#45;&gt;13 -->\n<g id=\"edge9\" class=\"edge\">\n<title>12&#45;&gt;13</title>\n<path fill=\"none\" stroke=\"#000000\" d=\"M268.3024,-71.9769C262.1348,-62.931 255.5622,-53.2913 249.7036,-44.6986\"/>\n<polygon fill=\"#000000\" stroke=\"#000000\" points=\"252.4288,-42.4825 243.9036,-36.192 246.6452,-46.4259 252.4288,-42.4825\"/>\n</g>\n<!-- 16 -->\n<g id=\"node11\" class=\"node\">\n<title>16</title>\n<polygon fill=\"#c0c0c0\" stroke=\"#000000\" points=\"330.5,-36 276.5,-36 276.5,0 330.5,0 330.5,-36\"/>\n<text text-anchor=\"middle\" x=\"303.5\" y=\"-14.3\" font-family=\"Times,serif\" font-size=\"14.00\" fill=\"#000000\">(...)</text>\n</g>\n<!-- 12&#45;&gt;16 -->\n<g id=\"edge10\" class=\"edge\">\n<title>12&#45;&gt;16</title>\n<path fill=\"none\" stroke=\"#000000\" d=\"M296.1395,-71.9769C297.2951,-63.5023 298.5218,-54.5065 299.6356,-46.3388\"/>\n<polygon fill=\"#000000\" stroke=\"#000000\" points=\"303.136,-46.5732 301.0193,-36.192 296.2002,-45.6273 303.136,-46.5732\"/>\n</g>\n<!-- 20 -->\n<g id=\"node13\" class=\"node\">\n<title>20</title>\n<polygon fill=\"#c0c0c0\" stroke=\"#000000\" points=\"402.5,-36 348.5,-36 348.5,0 402.5,0 402.5,-36\"/>\n<text text-anchor=\"middle\" x=\"375.5\" y=\"-14.3\" font-family=\"Times,serif\" font-size=\"14.00\" fill=\"#000000\">(...)</text>\n</g>\n<!-- 19&#45;&gt;20 -->\n<g id=\"edge12\" class=\"edge\">\n<title>19&#45;&gt;20</title>\n<path fill=\"none\" stroke=\"#000000\" d=\"M396.9681,-71.9769C393.4839,-63.2167 389.7782,-53.8995 386.4438,-45.5157\"/>\n<polygon fill=\"#000000\" stroke=\"#000000\" points=\"389.6834,-44.1905 382.7354,-36.192 383.179,-46.7775 389.6834,-44.1905\"/>\n</g>\n<!-- 23 -->\n<g id=\"node14\" class=\"node\">\n<title>23</title>\n<polygon fill=\"#c0c0c0\" stroke=\"#000000\" points=\"474.5,-36 420.5,-36 420.5,0 474.5,0 474.5,-36\"/>\n<text text-anchor=\"middle\" x=\"447.5\" y=\"-14.3\" font-family=\"Times,serif\" font-size=\"14.00\" fill=\"#000000\">(...)</text>\n</g>\n<!-- 19&#45;&gt;23 -->\n<g id=\"edge13\" class=\"edge\">\n<title>19&#45;&gt;23</title>\n<path fill=\"none\" stroke=\"#000000\" d=\"M424.8052,-71.9769C428.4884,-63.2167 432.4059,-53.8995 435.9309,-45.5157\"/>\n<polygon fill=\"#000000\" stroke=\"#000000\" points=\"439.2016,-46.7669 439.8511,-36.192 432.7487,-44.0537 439.2016,-46.7669\"/>\n</g>\n<!-- 27 -->\n<g id=\"node16\" class=\"node\">\n<title>27</title>\n<polygon fill=\"#f8decb\" stroke=\"#000000\" points=\"628.5,-244 524.5,-244 524.5,-176 628.5,-176 628.5,-244\"/>\n<text text-anchor=\"middle\" x=\"576.5\" y=\"-228.8\" font-family=\"Times,serif\" font-size=\"14.00\" fill=\"#000000\">B &lt;= 114.685</text>\n<text text-anchor=\"middle\" x=\"576.5\" y=\"-213.8\" font-family=\"Times,serif\" font-size=\"14.00\" fill=\"#000000\">mse = 10.89</text>\n<text text-anchor=\"middle\" x=\"576.5\" y=\"-198.8\" font-family=\"Times,serif\" font-size=\"14.00\" fill=\"#000000\">samples = 138</text>\n<text text-anchor=\"middle\" x=\"576.5\" y=\"-183.8\" font-family=\"Times,serif\" font-size=\"14.00\" fill=\"#000000\">value = 20.295</text>\n</g>\n<!-- 26&#45;&gt;27 -->\n<g id=\"edge15\" class=\"edge\">\n<title>26&#45;&gt;27</title>\n<path fill=\"none\" stroke=\"#000000\" d=\"M576.5,-279.9465C576.5,-271.776 576.5,-262.9318 576.5,-254.3697\"/>\n<polygon fill=\"#000000\" stroke=\"#000000\" points=\"580.0001,-254.13 576.5,-244.13 573.0001,-254.13 580.0001,-254.13\"/>\n</g>\n<!-- 42 -->\n<g id=\"node23\" class=\"node\">\n<title>42</title>\n<polygon fill=\"#fcf1e9\" stroke=\"#000000\" points=\"860.5,-244 754.5,-244 754.5,-176 860.5,-176 860.5,-244\"/>\n<text text-anchor=\"middle\" x=\"807.5\" y=\"-228.8\" font-family=\"Times,serif\" font-size=\"14.00\" fill=\"#000000\">NOX &lt;= 0.603</text>\n<text text-anchor=\"middle\" x=\"807.5\" y=\"-213.8\" font-family=\"Times,serif\" font-size=\"14.00\" fill=\"#000000\">mse = 19.797</text>\n<text text-anchor=\"middle\" x=\"807.5\" y=\"-198.8\" font-family=\"Times,serif\" font-size=\"14.00\" fill=\"#000000\">samples = 129</text>\n<text text-anchor=\"middle\" x=\"807.5\" y=\"-183.8\" font-family=\"Times,serif\" font-size=\"14.00\" fill=\"#000000\">value = 14.224</text>\n</g>\n<!-- 26&#45;&gt;42 -->\n<g id=\"edge22\" class=\"edge\">\n<title>26&#45;&gt;42</title>\n<path fill=\"none\" stroke=\"#000000\" d=\"M639.0119,-285.8561C671.8471,-271.0732 711.9768,-253.0061 744.8347,-238.2129\"/>\n<polygon fill=\"#000000\" stroke=\"#000000\" points=\"746.657,-241.231 754.3386,-233.9341 743.7832,-234.848 746.657,-241.231\"/>\n</g>\n<!-- 28 -->\n<g id=\"node17\" class=\"node\">\n<title>28</title>\n<polygon fill=\"#fcf1e9\" stroke=\"#000000\" points=\"597.5,-140 505.5,-140 505.5,-72 597.5,-72 597.5,-140\"/>\n<text text-anchor=\"middle\" x=\"551.5\" y=\"-124.8\" font-family=\"Times,serif\" font-size=\"14.00\" fill=\"#000000\">B &lt;= 47.725</text>\n<text text-anchor=\"middle\" x=\"551.5\" y=\"-109.8\" font-family=\"Times,serif\" font-size=\"14.00\" fill=\"#000000\">mse = 8.703</text>\n<text text-anchor=\"middle\" x=\"551.5\" y=\"-94.8\" font-family=\"Times,serif\" font-size=\"14.00\" fill=\"#000000\">samples = 6</text>\n<text text-anchor=\"middle\" x=\"551.5\" y=\"-79.8\" font-family=\"Times,serif\" font-size=\"14.00\" fill=\"#000000\">value = 14.4</text>\n</g>\n<!-- 27&#45;&gt;28 -->\n<g id=\"edge16\" class=\"edge\">\n<title>27&#45;&gt;28</title>\n<path fill=\"none\" stroke=\"#000000\" d=\"M568.3141,-175.9465C566.3284,-167.6863 564.1772,-158.7374 562.098,-150.0875\"/>\n<polygon fill=\"#000000\" stroke=\"#000000\" points=\"565.4447,-149.035 559.7043,-140.13 558.6386,-150.6711 565.4447,-149.035\"/>\n</g>\n<!-- 35 -->\n<g id=\"node20\" class=\"node\">\n<title>35</title>\n<polygon fill=\"#f8ddca\" stroke=\"#000000\" points=\"719.5,-140 615.5,-140 615.5,-72 719.5,-72 719.5,-140\"/>\n<text text-anchor=\"middle\" x=\"667.5\" y=\"-124.8\" font-family=\"Times,serif\" font-size=\"14.00\" fill=\"#000000\">RM &lt;= 6.797</text>\n<text text-anchor=\"middle\" x=\"667.5\" y=\"-109.8\" font-family=\"Times,serif\" font-size=\"14.00\" fill=\"#000000\">mse = 9.338</text>\n<text text-anchor=\"middle\" x=\"667.5\" y=\"-94.8\" font-family=\"Times,serif\" font-size=\"14.00\" fill=\"#000000\">samples = 132</text>\n<text text-anchor=\"middle\" x=\"667.5\" y=\"-79.8\" font-family=\"Times,serif\" font-size=\"14.00\" fill=\"#000000\">value = 20.563</text>\n</g>\n<!-- 27&#45;&gt;35 -->\n<g id=\"edge19\" class=\"edge\">\n<title>27&#45;&gt;35</title>\n<path fill=\"none\" stroke=\"#000000\" d=\"M606.2968,-175.9465C614.153,-166.968 622.7212,-157.1758 630.8913,-147.8385\"/>\n<polygon fill=\"#000000\" stroke=\"#000000\" points=\"633.6852,-149.9606 637.6363,-140.13 628.4171,-145.351 633.6852,-149.9606\"/>\n</g>\n<!-- 29 -->\n<g id=\"node18\" class=\"node\">\n<title>29</title>\n<polygon fill=\"#c0c0c0\" stroke=\"#000000\" points=\"546.5,-36 492.5,-36 492.5,0 546.5,0 546.5,-36\"/>\n<text text-anchor=\"middle\" x=\"519.5\" y=\"-14.3\" font-family=\"Times,serif\" font-size=\"14.00\" fill=\"#000000\">(...)</text>\n</g>\n<!-- 28&#45;&gt;29 -->\n<g id=\"edge17\" class=\"edge\">\n<title>28&#45;&gt;29</title>\n<path fill=\"none\" stroke=\"#000000\" d=\"M539.128,-71.9769C535.9771,-63.3119 532.628,-54.102 529.6052,-45.7894\"/>\n<polygon fill=\"#000000\" stroke=\"#000000\" points=\"532.822,-44.3938 526.1153,-36.192 526.2435,-46.786 532.822,-44.3938\"/>\n</g>\n<!-- 32 -->\n<g id=\"node19\" class=\"node\">\n<title>32</title>\n<polygon fill=\"#c0c0c0\" stroke=\"#000000\" points=\"618.5,-36 564.5,-36 564.5,0 618.5,0 618.5,-36\"/>\n<text text-anchor=\"middle\" x=\"591.5\" y=\"-14.3\" font-family=\"Times,serif\" font-size=\"14.00\" fill=\"#000000\">(...)</text>\n</g>\n<!-- 28&#45;&gt;32 -->\n<g id=\"edge18\" class=\"edge\">\n<title>28&#45;&gt;32</title>\n<path fill=\"none\" stroke=\"#000000\" d=\"M566.965,-71.9769C570.947,-63.2167 575.182,-53.8995 578.9929,-45.5157\"/>\n<polygon fill=\"#000000\" stroke=\"#000000\" points=\"582.2791,-46.744 583.2309,-36.192 575.9066,-43.8473 582.2791,-46.744\"/>\n</g>\n<!-- 36 -->\n<g id=\"node21\" class=\"node\">\n<title>36</title>\n<polygon fill=\"#c0c0c0\" stroke=\"#000000\" points=\"690.5,-36 636.5,-36 636.5,0 690.5,0 690.5,-36\"/>\n<text text-anchor=\"middle\" x=\"663.5\" y=\"-14.3\" font-family=\"Times,serif\" font-size=\"14.00\" fill=\"#000000\">(...)</text>\n</g>\n<!-- 35&#45;&gt;36 -->\n<g id=\"edge20\" class=\"edge\">\n<title>35&#45;&gt;36</title>\n<path fill=\"none\" stroke=\"#000000\" d=\"M665.9535,-71.9769C665.5683,-63.5023 665.1594,-54.5065 664.7881,-46.3388\"/>\n<polygon fill=\"#000000\" stroke=\"#000000\" points=\"668.2775,-46.0227 664.3269,-36.192 661.2847,-46.3406 668.2775,-46.0227\"/>\n</g>\n<!-- 39 -->\n<g id=\"node22\" class=\"node\">\n<title>39</title>\n<polygon fill=\"#c0c0c0\" stroke=\"#000000\" points=\"762.5,-36 708.5,-36 708.5,0 762.5,0 762.5,-36\"/>\n<text text-anchor=\"middle\" x=\"735.5\" y=\"-14.3\" font-family=\"Times,serif\" font-size=\"14.00\" fill=\"#000000\">(...)</text>\n</g>\n<!-- 35&#45;&gt;39 -->\n<g id=\"edge21\" class=\"edge\">\n<title>35&#45;&gt;39</title>\n<path fill=\"none\" stroke=\"#000000\" d=\"M693.7906,-71.9769C700.9277,-62.7406 708.5433,-52.8851 715.2875,-44.1573\"/>\n<polygon fill=\"#000000\" stroke=\"#000000\" points=\"718.0976,-46.2449 721.4426,-36.192 712.5586,-41.9647 718.0976,-46.2449\"/>\n</g>\n<!-- 43 -->\n<g id=\"node24\" class=\"node\">\n<title>43</title>\n<polygon fill=\"#fae6d7\" stroke=\"#000000\" points=\"874.5,-140 740.5,-140 740.5,-72 874.5,-72 874.5,-140\"/>\n<text text-anchor=\"middle\" x=\"807.5\" y=\"-124.8\" font-family=\"Times,serif\" font-size=\"14.00\" fill=\"#000000\">PTRATIO &lt;= 20.95</text>\n<text text-anchor=\"middle\" x=\"807.5\" y=\"-109.8\" font-family=\"Times,serif\" font-size=\"14.00\" fill=\"#000000\">mse = 13.544</text>\n<text text-anchor=\"middle\" x=\"807.5\" y=\"-94.8\" font-family=\"Times,serif\" font-size=\"14.00\" fill=\"#000000\">samples = 42</text>\n<text text-anchor=\"middle\" x=\"807.5\" y=\"-79.8\" font-family=\"Times,serif\" font-size=\"14.00\" fill=\"#000000\">value = 17.917</text>\n</g>\n<!-- 42&#45;&gt;43 -->\n<g id=\"edge23\" class=\"edge\">\n<title>42&#45;&gt;43</title>\n<path fill=\"none\" stroke=\"#000000\" d=\"M807.5,-175.9465C807.5,-167.776 807.5,-158.9318 807.5,-150.3697\"/>\n<polygon fill=\"#000000\" stroke=\"#000000\" points=\"811.0001,-150.13 807.5,-140.13 804.0001,-150.13 811.0001,-150.13\"/>\n</g>\n<!-- 50 -->\n<g id=\"node27\" class=\"node\">\n<title>50</title>\n<polygon fill=\"#fdf7f2\" stroke=\"#000000\" points=\"1018,-140 893,-140 893,-72 1018,-72 1018,-140\"/>\n<text text-anchor=\"middle\" x=\"955.5\" y=\"-124.8\" font-family=\"Times,serif\" font-size=\"14.00\" fill=\"#000000\">LSTAT &lt;= 19.645</text>\n<text text-anchor=\"middle\" x=\"955.5\" y=\"-109.8\" font-family=\"Times,serif\" font-size=\"14.00\" fill=\"#000000\">mse = 13.055</text>\n<text text-anchor=\"middle\" x=\"955.5\" y=\"-94.8\" font-family=\"Times,serif\" font-size=\"14.00\" fill=\"#000000\">samples = 87</text>\n<text text-anchor=\"middle\" x=\"955.5\" y=\"-79.8\" font-family=\"Times,serif\" font-size=\"14.00\" fill=\"#000000\">value = 12.441</text>\n</g>\n<!-- 42&#45;&gt;50 -->\n<g id=\"edge26\" class=\"edge\">\n<title>42&#45;&gt;50</title>\n<path fill=\"none\" stroke=\"#000000\" d=\"M855.9607,-175.9465C869.6323,-166.3395 884.6294,-155.8009 898.7409,-145.8848\"/>\n<polygon fill=\"#000000\" stroke=\"#000000\" points=\"900.7608,-148.7432 906.9304,-140.13 896.7361,-143.0158 900.7608,-148.7432\"/>\n</g>\n<!-- 44 -->\n<g id=\"node25\" class=\"node\">\n<title>44</title>\n<polygon fill=\"#c0c0c0\" stroke=\"#000000\" points=\"834.5,-36 780.5,-36 780.5,0 834.5,0 834.5,-36\"/>\n<text text-anchor=\"middle\" x=\"807.5\" y=\"-14.3\" font-family=\"Times,serif\" font-size=\"14.00\" fill=\"#000000\">(...)</text>\n</g>\n<!-- 43&#45;&gt;44 -->\n<g id=\"edge24\" class=\"edge\">\n<title>43&#45;&gt;44</title>\n<path fill=\"none\" stroke=\"#000000\" d=\"M807.5,-71.9769C807.5,-63.5023 807.5,-54.5065 807.5,-46.3388\"/>\n<polygon fill=\"#000000\" stroke=\"#000000\" points=\"811.0001,-46.1919 807.5,-36.192 804.0001,-46.192 811.0001,-46.1919\"/>\n</g>\n<!-- 47 -->\n<g id=\"node26\" class=\"node\">\n<title>47</title>\n<polygon fill=\"#c0c0c0\" stroke=\"#000000\" points=\"906.5,-36 852.5,-36 852.5,0 906.5,0 906.5,-36\"/>\n<text text-anchor=\"middle\" x=\"879.5\" y=\"-14.3\" font-family=\"Times,serif\" font-size=\"14.00\" fill=\"#000000\">(...)</text>\n</g>\n<!-- 43&#45;&gt;47 -->\n<g id=\"edge25\" class=\"edge\">\n<title>43&#45;&gt;47</title>\n<path fill=\"none\" stroke=\"#000000\" d=\"M835.3371,-71.9769C842.8941,-62.7406 850.9576,-52.8851 858.0986,-44.1573\"/>\n<polygon fill=\"#000000\" stroke=\"#000000\" points=\"860.9921,-46.1479 864.6157,-36.192 855.5744,-41.7152 860.9921,-46.1479\"/>\n</g>\n<!-- 51 -->\n<g id=\"node28\" class=\"node\">\n<title>51</title>\n<polygon fill=\"#c0c0c0\" stroke=\"#000000\" points=\"980.5,-36 926.5,-36 926.5,0 980.5,0 980.5,-36\"/>\n<text text-anchor=\"middle\" x=\"953.5\" y=\"-14.3\" font-family=\"Times,serif\" font-size=\"14.00\" fill=\"#000000\">(...)</text>\n</g>\n<!-- 50&#45;&gt;51 -->\n<g id=\"edge27\" class=\"edge\">\n<title>50&#45;&gt;51</title>\n<path fill=\"none\" stroke=\"#000000\" d=\"M954.7267,-71.9769C954.5341,-63.5023 954.3297,-54.5065 954.1441,-46.3388\"/>\n<polygon fill=\"#000000\" stroke=\"#000000\" points=\"957.6399,-46.1098 953.9135,-36.192 950.6417,-46.2689 957.6399,-46.1098\"/>\n</g>\n<!-- 54 -->\n<g id=\"node29\" class=\"node\">\n<title>54</title>\n<polygon fill=\"#c0c0c0\" stroke=\"#000000\" points=\"1052.5,-36 998.5,-36 998.5,0 1052.5,0 1052.5,-36\"/>\n<text text-anchor=\"middle\" x=\"1025.5\" y=\"-14.3\" font-family=\"Times,serif\" font-size=\"14.00\" fill=\"#000000\">(...)</text>\n</g>\n<!-- 50&#45;&gt;54 -->\n<g id=\"edge28\" class=\"edge\">\n<title>50&#45;&gt;54</title>\n<path fill=\"none\" stroke=\"#000000\" d=\"M982.5638,-71.9769C989.9109,-62.7406 997.7505,-52.8851 1004.6931,-44.1573\"/>\n<polygon fill=\"#000000\" stroke=\"#000000\" points=\"1007.543,-46.1968 1011.0291,-36.192 1002.0647,-41.8391 1007.543,-46.1968\"/>\n</g>\n</g>\n</svg>\n"
          },
          "metadata": {
            "tags": []
          },
          "execution_count": 20
        }
      ]
    },
    {
      "cell_type": "code",
      "metadata": {
        "id": "Je-OqU2ekCLT",
        "colab_type": "code",
        "colab": {}
      },
      "source": [
        "#mse 平均平方距離\n",
        "\n",
        "#模型不能訓練的完美, 誤差或雜質會影響\n",
        "#過度訓練->過擬合overfitting <->欠擬合underfitting\n",
        "#剪枝:分前後\n",
        "#前:設定最大深度，max_depth\n",
        "#後:底部拔掉看看"
      ],
      "execution_count": null,
      "outputs": []
    },
    {
      "cell_type": "code",
      "metadata": {
        "id": "vLJB6DJtgdvy",
        "colab_type": "code",
        "colab": {
          "base_uri": "https://localhost:8080/",
          "height": 35
        },
        "outputId": "c0c2ae7a-b0e6-49b8-c2ac-945b4ff0bd78"
      },
      "source": [
        "from sklearn.metrics import r2_score\n",
        "#不能用訓練資料來驗證\n",
        "# pre = clf.predict(x_train)\n",
        "# accuracy_score(pre,y_train)\n",
        "pre = reg.predict(x_test)\n",
        "# accuracy_score(pre,y_test)\n",
        "r2_score(y_test, pre)"
      ],
      "execution_count": 21,
      "outputs": [
        {
          "output_type": "execute_result",
          "data": {
            "text/plain": [
              "0.6964966968361801"
            ]
          },
          "metadata": {
            "tags": []
          },
          "execution_count": 21
        }
      ]
    },
    {
      "cell_type": "code",
      "metadata": {
        "id": "677o63KbpPV0",
        "colab_type": "code",
        "colab": {}
      },
      "source": [
        "#AI模型的可解釋性(回頭告訴人類一個結論，或是為什麼這樣做)\n",
        "#決策樹會決定特徵重要性"
      ],
      "execution_count": null,
      "outputs": []
    }
  ]
}